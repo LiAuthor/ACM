{
 "cells": [
  {
   "cell_type": "code",
   "execution_count": 1,
   "id": "supported-wholesale",
   "metadata": {},
   "outputs": [],
   "source": [
    "import numpy as np\n",
    "import os\n",
    "import h5py\n",
    "import matplotlib.pyplot as plt\n",
    "from skimage import transform,data\n",
    "import imageio\n",
    "from collections import Counter"
   ]
  },
  {
   "cell_type": "code",
   "execution_count": 2,
   "id": "adult-people",
   "metadata": {},
   "outputs": [],
   "source": [
    "def get_files(file_dir):\n",
    "    #正类\n",
    "    Yes = []\n",
    "    label_Yes = []\n",
    "    #负类\n",
    "    No = []\n",
    "    label_No = []\n",
    "    \n",
    "    for file in os.listdir(file_dir+'/Yes'):\n",
    "        Yes.append(file_dir+'/Yes'+'/'+file)\n",
    "        label_Yes.append(1)\n",
    "        \n",
    "    for file in os.listdir(file_dir+'/No'):\n",
    "        No.append(file_dir+'/No'+'/'+file)\n",
    "        label_No.append(0)\n",
    "        \n",
    "    #合并数据集\n",
    "    image_list=np.hstack((Yes,No))\n",
    "    label_list=np.hstack((label_Yes,label_No))\n",
    "    \n",
    "    #打乱图片顺序\n",
    "    temp=np.array([image_list,label_list])\n",
    "    temp=temp.transpose()\n",
    "    np.random.shuffle(temp)\n",
    "    \n",
    "    #取出\n",
    "    image_list=list(temp[:,0])\n",
    "    label_list=list(temp[:,1])\n",
    "    label_list=[int(i) for i in label_list]\n",
    "    \n",
    "    return image_list,label_list"
   ]
  },
  {
   "cell_type": "code",
   "execution_count": 3,
   "id": "interstate-burke",
   "metadata": {},
   "outputs": [],
   "source": [
    "image_list,label_list=get_files(\"/home/yee/DataSet/Animal/\")"
   ]
  },
  {
   "cell_type": "code",
   "execution_count": 4,
   "id": "proof-scroll",
   "metadata": {},
   "outputs": [
    {
     "name": "stdout",
     "output_type": "stream",
     "text": [
      "160\n"
     ]
    }
   ],
   "source": [
    "print(len(image_list))"
   ]
  },
  {
   "cell_type": "code",
   "execution_count": 6,
   "id": "developing-collectible",
   "metadata": {},
   "outputs": [],
   "source": [
    "#568切分出来做测试集\n",
    "Train_image=np.random.rand(len(image_list)-68,64,64,3).astype('float32')\n",
    "Train_label=np.random.rand(len(image_list)-68,1).astype('float32')\n",
    "Test_image=np.random.rand(568,64,64,3).astype('float32')\n",
    "Test_label=np.random.rand(568,1).astype('float32')"
   ]
  },
  {
   "cell_type": "code",
   "execution_count": 7,
   "id": "supposed-zambia",
   "metadata": {},
   "outputs": [
    {
     "name": "stdout",
     "output_type": "stream",
     "text": [
      "92\n",
      "568\n"
     ]
    }
   ],
   "source": [
    "print(len(Train_image))\n",
    "print(len(Test_image))"
   ]
  },
  {
   "cell_type": "code",
   "execution_count": 8,
   "id": "worthy-definition",
   "metadata": {},
   "outputs": [
    {
     "name": "stdout",
     "output_type": "stream",
     "text": [
      "+++++++++++++++++++++++++++\n",
      "93\n",
      "+++++++++++++++++++++++++++\n",
      "161\n"
     ]
    }
   ],
   "source": [
    "sum=1\n",
    "for i in range(len(image_list)-68):\n",
    "    #print(i)\n",
    "    temp_image= np.array(imageio.imread(image_list[i]))\n",
    "    #print(temp_image.shape,temp_image.ndim)\n",
    "    if  temp_image.ndim==3:\n",
    "        if temp_image.shape[2]!=4:\n",
    "            Train_image[i]=transform.resize(temp_image,(64,64))\n",
    "            Train_label[i] = np.array(label_list[i])\n",
    "            sum+=1\n",
    "print(\"+++++++++++++++++++++++++++\")\n",
    "print(sum)\n",
    "for i in range(len(image_list)-68, len(image_list)):\n",
    "    #print(i)\n",
    "    temp_image=np.array(imageio.imread(image_list[i+68-len(image_list)] ))\n",
    "    #print(temp_image.shape)\n",
    "    if temp_image.ndim==3:\n",
    "        if temp_image.shape[2]!=4:\n",
    "            Test_image[i+68-len(image_list)]=transform.resize(temp_image,(64,64))\n",
    "            Test_label[i+68-len(image_list)] = np.array(label_list[i])\n",
    "            sum+=1\n",
    "print(\"+++++++++++++++++++++++++++\")\n",
    "print(sum)"
   ]
  },
  {
   "cell_type": "code",
   "execution_count": 9,
   "id": "suburban-median",
   "metadata": {},
   "outputs": [
    {
     "data": {
      "text/plain": [
       "<HDF5 dataset \"train_set_y\": shape (92, 1), type \"<f4\">"
      ]
     },
     "execution_count": 9,
     "metadata": {},
     "output_type": "execute_result"
    }
   ],
   "source": [
    "f=h5py.File('Train_Set_cat_1.h5','w')\n",
    "f.create_dataset('train_set_x',data=Train_image)\n",
    "f.create_dataset('train_set_y',data=Train_label)"
   ]
  },
  {
   "cell_type": "code",
   "execution_count": 10,
   "id": "supposed-procurement",
   "metadata": {},
   "outputs": [
    {
     "data": {
      "text/plain": [
       "<HDF5 dataset \"test_set_y\": shape (568, 1), type \"<f4\">"
      ]
     },
     "execution_count": 10,
     "metadata": {},
     "output_type": "execute_result"
    }
   ],
   "source": [
    "f=h5py.File('Test_Set_cat_1.h5','w')\n",
    "f.create_dataset('test_set_x',data=Test_image)\n",
    "f.create_dataset('test_set_y',data=Test_label)"
   ]
  },
  {
   "cell_type": "code",
   "execution_count": 17,
   "id": "little-lincoln",
   "metadata": {},
   "outputs": [
    {
     "name": "stdout",
     "output_type": "stream",
     "text": [
      "(92, 64, 64, 3)\n",
      "[1.]\n"
     ]
    },
    {
     "data": {
      "text/plain": [
       "<matplotlib.image.AxesImage at 0x7fcb6405ecc0>"
      ]
     },
     "execution_count": 17,
     "metadata": {},
     "output_type": "execute_result"
    },
    {
     "data": {
      "image/png": "[encoded data removed]",
      "text/plain": [
       "<Figure size 432x288 with 1 Axes>"
      ]
     },
     "metadata": {
      "needs_background": "light"
     },
     "output_type": "display_data"
    }
   ],
   "source": [
    "Train_dataset=h5py.File('Train_Set_cat_1.h5','r')\n",
    "T_X=np.array(Train_dataset['train_set_x'][:])\n",
    "T_y=np.array(Train_dataset['train_set_y'][:])\n",
    "print(T_X.shape)\n",
    "index=17\n",
    "print(T_y[index])\n",
    "plt.imshow(T_X[index])"
   ]
  },
  {
   "cell_type": "code",
   "execution_count": null,
   "id": "recorded-crystal",
   "metadata": {},
   "outputs": [],
   "source": []
  }
 ],
 "metadata": {
  "kernelspec": {
   "display_name": "Python 3",
   "language": "python",
   "name": "python3"
  },
  "language_info": {
   "codemirror_mode": {
    "name": "ipython",
    "version": 3
   },
   "file_extension": ".py",
   "mimetype": "text/x-python",
   "name": "python",
   "nbconvert_exporter": "python",
   "pygments_lexer": "ipython3",
   "version": "3.7.3"
  }
 },
 "nbformat": 4,
 "nbformat_minor": 5
}
