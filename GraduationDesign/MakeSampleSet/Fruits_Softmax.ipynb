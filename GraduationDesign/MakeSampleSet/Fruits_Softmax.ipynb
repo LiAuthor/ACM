{
 "cells": [
  {
   "cell_type": "code",
   "execution_count": 8,
   "id": "sealed-interference",
   "metadata": {},
   "outputs": [],
   "source": [
    "import matplotlib.pyplot as plt\n",
    "import numpy as np\n",
    "import os\n",
    "import PIL\n",
    "import pathlib\n",
    "import tensorflow as tf\n",
    "from tensorflow import keras\n",
    "from tensorflow.keras import layers\n",
    "from tensorflow.keras.models import Sequential\n",
    "import tensorflow as tf\n",
    "from tensorflow import keras\n",
    "import tempfile\n",
    "import matplotlib\n",
    "import matplotlib as mpl\n",
    "import seaborn as sns\n",
    "\n",
    "import sklearn\n",
    "from sklearn.metrics import confusion_matrix\n",
    "from sklearn.model_selection import train_test_split\n",
    "from sklearn.preprocessing import StandardScaler"
   ]
  },
  {
   "cell_type": "code",
   "execution_count": 2,
   "id": "finished-staff",
   "metadata": {},
   "outputs": [],
   "source": [
    "import pathlib\n",
    "from os import listdir\n",
    "from os.path import join\n",
    "data_root_orig=\"/home/yee/DataSet/dataset/dataset/train\"\n",
    "data_root = pathlib.Path(data_root_orig)\n",
    "#for item in data_root.iterdir():\n",
    "    #print(item)"
   ]
  },
  {
   "cell_type": "code",
   "execution_count": 3,
   "id": "balanced-currency",
   "metadata": {},
   "outputs": [
    {
     "data": {
      "text/plain": [
       "4184"
      ]
     },
     "execution_count": 3,
     "metadata": {},
     "output_type": "execute_result"
    }
   ],
   "source": [
    "import random\n",
    "#获取所有图片的路径\n",
    "all_image_paths = list(data_root.glob('*/*'))\n",
    "all_image_paths = [str(path) for path in all_image_paths]\n",
    "#将所有路径打乱\n",
    "random.shuffle(all_image_paths)\n",
    "\n",
    "image_count = len(all_image_paths)\n",
    "image_count"
   ]
  },
  {
   "cell_type": "code",
   "execution_count": 4,
   "id": "roman-visibility",
   "metadata": {},
   "outputs": [
    {
     "data": {
      "text/plain": [
       "['/home/yee/DataSet/dataset/dataset/train/freshbanana/vertical_flip_Screen Shot 2018-06-12 at 9.58.49 PM.png',\n",
       " '/home/yee/DataSet/dataset/dataset/train/freshapples/rotated_by_60_Screen Shot 2018-06-08 at 5.10.53 PM.png',\n",
       " '/home/yee/DataSet/dataset/dataset/train/freshbanana/rotated_by_15_Screen Shot 2018-06-12 at 9.55.02 PM.png']"
      ]
     },
     "execution_count": 4,
     "metadata": {},
     "output_type": "execute_result"
    }
   ],
   "source": [
    "all_image_paths[:3]"
   ]
  },
  {
   "cell_type": "code",
   "execution_count": 5,
   "id": "surprised-illness",
   "metadata": {},
   "outputs": [],
   "source": [
    "from PIL import Image\n",
    "\n",
    "train_images = []\n",
    "for image in all_image_paths:\n",
    "    #print((os.path.join(image)))\n",
    "    with Image.open(os.path.join(image)) as img:\n",
    "        train_images.append(img)\n",
    "    \n",
    "#for i in range(len(all_image_paths)):\n",
    "#    img=Image.open(all_image_paths[i])\n",
    "#    train_images.append(img)"
   ]
  },
  {
   "cell_type": "code",
   "execution_count": 12,
   "id": "above-depression",
   "metadata": {},
   "outputs": [],
   "source": [
    "#matplotlib.use('WebAgg')\n",
    "train_labels  = [pathlib.Path(path).parent.name for path in all_image_paths]"
   ]
  },
  {
   "cell_type": "code",
   "execution_count": 13,
   "id": "enormous-contest",
   "metadata": {},
   "outputs": [],
   "source": [
    "img_height=180\n",
    "img_width=180"
   ]
  },
  {
   "cell_type": "code",
   "execution_count": 14,
   "id": "bearing-stupid",
   "metadata": {},
   "outputs": [
    {
     "name": "stdout",
     "output_type": "stream",
     "text": [
      "Found 4184 files belonging to 3 classes.\n",
      "Using 3348 files for training.\n",
      "\n",
      " ['freshapples', 'freshbanana', 'freshoranges']\n"
     ]
    },
    {
     "data": {
      "text/plain": [
       "<BatchDataset shapes: ((None, 180, 180, 3), (None,)), types: (tf.float32, tf.int32)>"
      ]
     },
     "execution_count": 14,
     "metadata": {},
     "output_type": "execute_result"
    }
   ],
   "source": [
    "train_ds = tf.keras.preprocessing.image_dataset_from_directory(\n",
    "  data_root,\n",
    "  validation_split=0.2,\n",
    "  subset=\"training\",\n",
    "  seed=123,\n",
    "  image_size=(180, 180),\n",
    "  batch_size=32)\n",
    "\n",
    "class_names = train_ds.class_names\n",
    "print(\"\\n\",class_names)\n",
    "\n",
    "train_ds"
   ]
  },
  {
   "cell_type": "code",
   "execution_count": null,
   "id": "applicable-haiti",
   "metadata": {},
   "outputs": [],
   "source": []
  }
 ],
 "metadata": {
  "kernelspec": {
   "display_name": "Python 3",
   "language": "python",
   "name": "python3"
  },
  "language_info": {
   "codemirror_mode": {
    "name": "ipython",
    "version": 3
   },
   "file_extension": ".py",
   "mimetype": "text/x-python",
   "name": "python",
   "nbconvert_exporter": "python",
   "pygments_lexer": "ipython3",
   "version": "3.7.3"
  }
 },
 "nbformat": 4,
 "nbformat_minor": 5
}
