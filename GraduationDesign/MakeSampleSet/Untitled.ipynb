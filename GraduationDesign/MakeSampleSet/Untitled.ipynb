{
 "cells": [
  {
   "cell_type": "code",
   "execution_count": 1,
   "id": "induced-weight",
   "metadata": {},
   "outputs": [],
   "source": [
    "import os\n",
    "import numpy as np\n",
    "import cv2\n",
    "import h5py"
   ]
  },
  {
   "cell_type": "code",
   "execution_count": 2,
   "id": "enormous-arrow",
   "metadata": {},
   "outputs": [
    {
     "name": "stdout",
     "output_type": "stream",
     "text": [
      "/home/yee/DataSet/Animal/train/cat/No\n",
      "/home/yee/DataSet/Animal/train/cat/Yes\n"
     ]
    }
   ],
   "source": [
    "def save_image_to_h5py(path):\n",
    "    img_list = []\n",
    "    label_list = []\n",
    "\n",
    "    for child_dir in os.listdir(path):\n",
    "        child_path = os.path.join(path, child_dir)\n",
    "        for dir_image in os.listdir(child_path):\n",
    "            img = cv2.imread(os.path.join(child_path, dir_image))\n",
    "            img_list.append(img)\n",
    "            label_list.append(1)\n",
    "            \n",
    "    for child_dir in os.listdir(path):\n",
    "        child_path = os.path.join(path, child_dir)\n",
    "        for dir_image in os.listdir(child_path):\n",
    "            img = cv2.imread(os.path.join(child_path, dir_image))\n",
    "            img_list.append(img)\n",
    "            label_list.append(0)"
   ]
  }
 ],
 "metadata": {
  "kernelspec": {
   "display_name": "Python 3",
   "language": "python",
   "name": "python3"
  },
  "language_info": {
   "codemirror_mode": {
    "name": "ipython",
    "version": 3
   },
   "file_extension": ".py",
   "mimetype": "text/x-python",
   "name": "python",
   "nbconvert_exporter": "python",
   "pygments_lexer": "ipython3",
   "version": "3.7.3"
  }
 },
 "nbformat": 4,
 "nbformat_minor": 5
}
