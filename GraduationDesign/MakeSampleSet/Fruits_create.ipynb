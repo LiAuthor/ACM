{
 "cells": [
  {
   "cell_type": "code",
   "execution_count": 1,
   "id": "pacific-footage",
   "metadata": {},
   "outputs": [],
   "source": [
    "import matplotlib.pyplot as plt\n",
    "import numpy as np\n",
    "import os\n",
    "import PIL\n",
    "import pathlib\n",
    "import tensorflow as tf\n",
    "from tensorflow import keras\n",
    "from tensorflow.keras import layers\n",
    "from tensorflow.keras.models import Sequential"
   ]
  },
  {
   "cell_type": "code",
   "execution_count": 2,
   "id": "declared-colleague",
   "metadata": {},
   "outputs": [
    {
     "name": "stdout",
     "output_type": "stream",
     "text": [
      "Found 4184 files belonging to 3 classes.\n",
      "Using 3348 files for training.\n"
     ]
    }
   ],
   "source": [
    "img_height = 180\n",
    "img_width = 180\n",
    "num_classes = 3\n",
    "\n",
    "data_root_orig = \"/home/yee/DataSet/dataset/dataset/train\"\n",
    "data_root = pathlib.Path(data_root_orig)\n",
    "\n",
    "train_ds = tf.keras.preprocessing.image_dataset_from_directory(\n",
    "    data_root,\n",
    "    validation_split=0.2,\n",
    "    subset=\"training\",\n",
    "    seed=123,\n",
    "    image_size=(180, 180),\n",
    "    batch_size=32)\n",
    "\n",
    "class_names = train_ds.class_names\n",
    "\n",
    "data_augmentation = keras.Sequential(\n",
    "    [\n",
    "        layers.experimental.preprocessing.RandomFlip(\"horizontal\",\n",
    "                                                     input_shape=(img_height,\n",
    "                                                                  img_width,\n",
    "                                                                  3)),\n",
    "        layers.experimental.preprocessing.RandomRotation(0.1),\n",
    "        layers.experimental.preprocessing.RandomZoom(0.1),\n",
    "    ]\n",
    ")\n",
    "\n",
    "\n",
    "def create_model():\n",
    "    model = Sequential([\n",
    "        data_augmentation,\n",
    "        layers.experimental.preprocessing.Rescaling(1./255),\n",
    "        layers.Conv2D(16, 3, padding='same', activation='relu'),\n",
    "        layers.MaxPooling2D(),\n",
    "        layers.Conv2D(32, 3, padding='same', activation='relu'),\n",
    "        layers.MaxPooling2D(),\n",
    "        layers.Conv2D(64, 3, padding='same', activation='relu'),\n",
    "        layers.MaxPooling2D(),\n",
    "        layers.Dropout(0.2),\n",
    "        layers.Flatten(),\n",
    "        layers.Dense(128, activation='relu'),\n",
    "        layers.Dense(num_classes)\n",
    "    ])\n",
    "    model.compile(optimizer='adam',\n",
    "                  loss=tf.keras.losses.SparseCategoricalCrossentropy(\n",
    "                      from_logits=True),\n",
    "                  metrics=['accuracy'])\n",
    "    return model"
   ]
  },
  {
   "cell_type": "code",
   "execution_count": 4,
   "id": "curious-cooper",
   "metadata": {},
   "outputs": [
    {
     "data": {
      "text/plain": [
       "<tensorflow.python.training.tracking.util.CheckpointLoadStatus at 0x7f55042dd3c8>"
      ]
     },
     "execution_count": 4,
     "metadata": {},
     "output_type": "execute_result"
    }
   ],
   "source": [
    "# 创建模型实例\n",
    "model = create_model()\n",
    "\n",
    "# 恢复权重\n",
    "model.load_weights('/home/yee/GraduationDesign/Model/checkpoints/Fruits/Fruits_checkpoint')"
   ]
  },
  {
   "cell_type": "code",
   "execution_count": 21,
   "id": "emerging-athens",
   "metadata": {},
   "outputs": [],
   "source": [
    "#正例\n",
    "#data_root_orig_Yes = \"/home/yee/DataSet/dataset/dataset/test/freshapples\"\n",
    "data_root_orig_Yes = \"/home/yee/DataSet/dataset/dataset/test/freshbanana/\"\n",
    "#data_root_orig_Yes = \"/home/yee/DataSet/dataset/dataset/test/freshoranges/\"\n",
    "data_root_Yes = pathlib.Path(data_root_orig_Yes)\n",
    "\n",
    "#反例\n",
    "data_root_orig_No=\"/home/yee/DataSet/dataset/TEST\"\n",
    "data_root_No = pathlib.Path(data_root_orig_No)\n",
    "\n",
    "#test_class=\"freshapples\"\n",
    "test_class=\"freshbanana\"\n",
    "#test_class=\"freshoranges\""
   ]
  },
  {
   "cell_type": "code",
   "execution_count": 22,
   "id": "mediterranean-mounting",
   "metadata": {},
   "outputs": [
    {
     "name": "stdout",
     "output_type": "stream",
     "text": [
      "numbers_test:381 TP:359 FN:22\n"
     ]
    }
   ],
   "source": [
    "#正文件夹测试\n",
    "TP=0\n",
    "FN=0\n",
    "numbers_test=0\n",
    "# 遍历文件夹中的每个文件测试\n",
    "for item in data_root_Yes.iterdir():\n",
    "    # print(item)\n",
    "    img = keras.preprocessing.image.load_img(\n",
    "        item, target_size=(img_height, img_width) \n",
    "    )\n",
    "    img_array = keras.preprocessing.image.img_to_array(img)\n",
    "    img_array = tf.expand_dims(img_array, 0)  # Create a batch\n",
    "\n",
    "    predictions = model.predict(img_array)\n",
    "    score = tf.nn.softmax(predictions[0])\n",
    "    numbers_test+=1\n",
    "    type_test=class_names[np.argmax(score)]\n",
    "    confidence=100 * np.max(score)\n",
    "    if type_test==test_class:\n",
    "        TP+=1\n",
    "    else:\n",
    "        FN+=1\n",
    "    #print(\"Belongs to {} with a {:.2f} percent confidence.\".format(class_names[np.argmax(score)], 100 * np.max(score)))\n",
    "print(\"numbers_test:{} TP:{} FN:{}\".format(numbers_test,TP,FN))"
   ]
  },
  {
   "cell_type": "code",
   "execution_count": 23,
   "id": "historic-olympus",
   "metadata": {},
   "outputs": [
    {
     "name": "stdout",
     "output_type": "stream",
     "text": [
      "numbers_test:781 TN:81 FP:319\n"
     ]
    }
   ],
   "source": [
    "#负文件夹测试\n",
    "TN=0\n",
    "FP=0\n",
    "# 遍历文件夹中的每个文件测试\n",
    "for item in data_root_No.iterdir():\n",
    "    # print(item)\n",
    "    img = keras.preprocessing.image.load_img(\n",
    "        item, target_size=(img_height, img_width) \n",
    "    )\n",
    "    img_array = keras.preprocessing.image.img_to_array(img)\n",
    "    img_array = tf.expand_dims(img_array, 0)  # Create a batch\n",
    "\n",
    "    predictions = model.predict(img_array)\n",
    "    score = tf.nn.softmax(predictions[0])\n",
    "    numbers_test+=1\n",
    "    type_test=class_names[np.argmax(score)]\n",
    "    confidence=100 * np.max(score)\n",
    "    if type_test==test_class:\n",
    "        FP+=1\n",
    "    else:\n",
    "        TN+=1\n",
    "    #print(\"Belongs to {} with a {:.2f} percent confidence.\".format(class_names[np.argmax(score)], 100 * np.max(score)))\n",
    "print(\"numbers_test:{} TN:{} FP:{}\".format(numbers_test,TN,FP))"
   ]
  },
  {
   "cell_type": "code",
   "execution_count": 24,
   "id": "fitted-television",
   "metadata": {},
   "outputs": [
    {
     "name": "stdout",
     "output_type": "stream",
     "text": [
      "P:0.5294985250737463 R:0.9422572178477691 F1:0.6779981114258735\n"
     ]
    }
   ],
   "source": [
    "precision=TP/(TP+FP)\n",
    "recall=TP/(TP+FN)\n",
    "F1=2*TP/(numbers_test+TP-TN)\n",
    "print(\"P:{} R:{} F1:{}\".format(precision,recall,F1))"
   ]
  },
  {
   "cell_type": "code",
   "execution_count": null,
   "id": "provincial-politics",
   "metadata": {},
   "outputs": [],
   "source": []
  }
 ],
 "metadata": {
  "kernelspec": {
   "display_name": "Python 3",
   "language": "python",
   "name": "python3"
  },
  "language_info": {
   "codemirror_mode": {
    "name": "ipython",
    "version": 3
   },
   "file_extension": ".py",
   "mimetype": "text/x-python",
   "name": "python",
   "nbconvert_exporter": "python",
   "pygments_lexer": "ipython3",
   "version": "3.7.3"
  }
 },
 "nbformat": 4,
 "nbformat_minor": 5
}
