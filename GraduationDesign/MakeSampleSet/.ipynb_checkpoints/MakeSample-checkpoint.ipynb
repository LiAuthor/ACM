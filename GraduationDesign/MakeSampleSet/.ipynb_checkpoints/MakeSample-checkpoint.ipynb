{
 "cells": [
  {
   "cell_type": "code",
   "execution_count": 39,
   "id": "alternate-customer",
   "metadata": {},
   "outputs": [],
   "source": [
    "import numpy as np\n",
    "import os\n",
    "import h5py\n",
    "import matplotlib.pyplot as plt\n",
    "from skimage import transform,data\n",
    "import imageio\n",
    "from collections import Counter"
   ]
  },
  {
   "cell_type": "code",
   "execution_count": 40,
   "id": "fixed-insert",
   "metadata": {},
   "outputs": [],
   "source": [
    "def get_files(file_dir):\n",
    "    #正类\n",
    "    Yes = []\n",
    "    label_Yes = []\n",
    "    #负类\n",
    "    No = []\n",
    "    label_No = []\n",
    "    \n",
    "    for file in os.listdir(file_dir+'/Yes'):\n",
    "        Yes.append(file_dir+'/Yes'+'/'+file)\n",
    "        label_Yes.append(1)\n",
    "        \n",
    "    for file in os.listdir(file_dir+'/No'):\n",
    "        No.append(file_dir+'/No'+'/'+file)\n",
    "        label_No.append(0)\n",
    "        \n",
    "    #合并数据集\n",
    "    image_list=np.hstack((Yes,No))\n",
    "    label_list=np.hstack((label_Yes,label_No))\n",
    "    \n",
    "    #打乱图片顺序\n",
    "    temp=np.array([image_list,label_list])\n",
    "    temp=temp.transpose()\n",
    "    np.random.shuffle(temp)\n",
    "    \n",
    "    #取出\n",
    "    image_list=list(temp[:,0])\n",
    "    label_list=list(temp[:,1])\n",
    "    label_list=[int(i) for i in label_list]\n",
    "    \n",
    "    return image_list,label_list"
   ]
  },
  {
   "cell_type": "code",
   "execution_count": 41,
   "id": "opened-craps",
   "metadata": {},
   "outputs": [],
   "source": [
    "image_list,label_list=get_files(\"/home/yee/DataSet/Animal/train/\")"
   ]
  },
  {
   "cell_type": "code",
   "execution_count": 42,
   "id": "composed-idaho",
   "metadata": {},
   "outputs": [
    {
     "name": "stdout",
     "output_type": "stream",
     "text": [
      "2268\n"
     ]
    }
   ],
   "source": [
    "print(len(image_list))"
   ]
  },
  {
   "cell_type": "code",
   "execution_count": 43,
   "id": "theoretical-electron",
   "metadata": {},
   "outputs": [],
   "source": [
    "#test_number= 切分出来做测试集   .astype('float32')\n",
    "test_number=300\n",
    "Train_image=np.random.rand(len(image_list)-test_number,64,64,3)\n",
    "Train_label=np.random.rand(len(image_list)-test_number,1)\n",
    "Test_image=np.random.rand(test_number,64,64,3)\n",
    "Test_label=np.random.rand(test_number,1)"
   ]
  },
  {
   "cell_type": "code",
   "execution_count": 44,
   "id": "promising-commitment",
   "metadata": {},
   "outputs": [
    {
     "name": "stdout",
     "output_type": "stream",
     "text": [
      "1968\n",
      "300\n"
     ]
    }
   ],
   "source": [
    "print(len(Train_image))\n",
    "print(len(Test_image))"
   ]
  },
  {
   "cell_type": "code",
   "execution_count": 45,
   "id": "global-system",
   "metadata": {},
   "outputs": [
    {
     "name": "stderr",
     "output_type": "stream",
     "text": [
      "/home/yee/.pyenv/versions/3.7.3/lib/python3.7/site-packages/PIL/TiffImagePlugin.py:793: UserWarning: Corrupt EXIF data.  Expecting to read 12 bytes but only got 4. \n",
      "  warnings.warn(str(msg))\n"
     ]
    },
    {
     "name": "stdout",
     "output_type": "stream",
     "text": [
      "+++++++++++++++++++++++++++\n",
      "1933\n",
      "+++++++++++++++++++++++++++\n",
      "2228\n"
     ]
    }
   ],
   "source": [
    "sum=1\n",
    "for i in range(len(image_list)-test_number):\n",
    "    #print(i)\n",
    "    temp_image= np.array(imageio.imread(image_list[i]))\n",
    "    #print(temp_image.shape,temp_image.ndim)\n",
    "    if  temp_image.ndim==3:\n",
    "        if temp_image.shape[2]!=4:\n",
    "            Train_image[i]=transform.resize(temp_image,(64,64))\n",
    "            Train_label[i] = np.array(label_list[i])\n",
    "            #Train_label[i] = label_list[i]\n",
    "            sum+=1\n",
    "print(\"+++++++++++++++++++++++++++\")\n",
    "print(sum)\n",
    "for i in range(len(image_list)-test_number, len(image_list)):\n",
    "    #print(i)\n",
    "    temp_image=np.array(imageio.imread(image_list[i+test_number-len(image_list)] ))\n",
    "    #print(temp_image.shape)\n",
    "    if temp_image.ndim==3:\n",
    "        if temp_image.shape[2]!=4:\n",
    "            Test_image[i+test_number-len(image_list)]=transform.resize(temp_image,(64,64))\n",
    "            Test_label[i+test_number-len(image_list)] = np.array(label_list[i])\n",
    "            #Test_label[i+test_number-len(image_list)] = label_list[i]\n",
    "            sum+=1\n",
    "print(\"+++++++++++++++++++++++++++\")\n",
    "print(sum)"
   ]
  },
  {
   "cell_type": "code",
   "execution_count": 51,
   "id": "artificial-canon",
   "metadata": {},
   "outputs": [
    {
     "name": "stdout",
     "output_type": "stream",
     "text": [
      "3\n"
     ]
    }
   ],
   "source": [
    "#print(label_list)"
   ]
  },
  {
   "cell_type": "code",
   "execution_count": 47,
   "id": "large-leadership",
   "metadata": {},
   "outputs": [],
   "source": [
    "f=h5py.File('Train_Set_cat_2.h5','w')\n",
    "f.create_dataset('train_set_x',data=Train_image)\n",
    "f.create_dataset('train_set_y',data=Train_label)\n",
    "f.close()"
   ]
  },
  {
   "cell_type": "code",
   "execution_count": 48,
   "id": "accomplished-founder",
   "metadata": {},
   "outputs": [],
   "source": [
    "f=h5py.File('Test_Set_cat_2.h5','w')\n",
    "f.create_dataset('test_set_x',data=Test_image)\n",
    "f.create_dataset('test_set_y',data=Test_label)\n",
    "f.close()"
   ]
  },
  {
   "cell_type": "code",
   "execution_count": 49,
   "id": "enclosed-truck",
   "metadata": {},
   "outputs": [
    {
     "name": "stdout",
     "output_type": "stream",
     "text": [
      "[[0.        ]\n",
      " [0.        ]\n",
      " [1.        ]\n",
      " [0.        ]\n",
      " [1.        ]\n",
      " [0.        ]\n",
      " [0.        ]\n",
      " [0.        ]\n",
      " [0.        ]\n",
      " [0.        ]\n",
      " [1.        ]\n",
      " [0.        ]\n",
      " [0.        ]\n",
      " [1.        ]\n",
      " [1.        ]\n",
      " [1.        ]\n",
      " [0.        ]\n",
      " [0.        ]\n",
      " [0.        ]\n",
      " [1.        ]\n",
      " [1.        ]\n",
      " [1.        ]\n",
      " [0.        ]\n",
      " [0.        ]\n",
      " [1.        ]\n",
      " [0.        ]\n",
      " [0.        ]\n",
      " [1.        ]\n",
      " [0.        ]\n",
      " [1.        ]\n",
      " [1.        ]\n",
      " [1.        ]\n",
      " [0.        ]\n",
      " [0.        ]\n",
      " [0.        ]\n",
      " [0.38793636]\n",
      " [0.        ]\n",
      " [0.        ]\n",
      " [1.        ]\n",
      " [1.        ]\n",
      " [1.        ]\n",
      " [1.        ]\n",
      " [0.        ]\n",
      " [0.        ]\n",
      " [0.        ]\n",
      " [0.        ]\n",
      " [0.        ]\n",
      " [0.        ]\n",
      " [0.        ]\n",
      " [0.        ]\n",
      " [0.        ]\n",
      " [0.        ]\n",
      " [0.        ]\n",
      " [0.        ]\n",
      " [1.        ]\n",
      " [1.        ]\n",
      " [0.        ]\n",
      " [1.        ]\n",
      " [1.        ]\n",
      " [0.        ]\n",
      " [0.        ]\n",
      " [0.        ]\n",
      " [0.        ]\n",
      " [0.        ]\n",
      " [1.        ]\n",
      " [0.71662832]\n",
      " [0.        ]\n",
      " [0.        ]\n",
      " [0.        ]\n",
      " [1.        ]\n",
      " [0.        ]\n",
      " [1.        ]\n",
      " [0.        ]\n",
      " [1.        ]\n",
      " [0.        ]\n",
      " [0.        ]\n",
      " [1.        ]\n",
      " [0.        ]\n",
      " [0.        ]\n",
      " [1.        ]\n",
      " [0.        ]\n",
      " [1.        ]\n",
      " [1.        ]\n",
      " [1.        ]\n",
      " [1.        ]\n",
      " [0.        ]\n",
      " [1.        ]\n",
      " [0.        ]\n",
      " [1.        ]\n",
      " [0.        ]\n",
      " [1.        ]\n",
      " [0.        ]\n",
      " [0.        ]\n",
      " [0.        ]\n",
      " [0.        ]\n",
      " [0.        ]\n",
      " [1.        ]\n",
      " [1.        ]\n",
      " [1.        ]\n",
      " [1.        ]\n",
      " [1.        ]\n",
      " [1.        ]\n",
      " [0.        ]\n",
      " [1.        ]\n",
      " [0.        ]\n",
      " [1.        ]\n",
      " [0.        ]\n",
      " [0.        ]\n",
      " [1.        ]\n",
      " [1.        ]\n",
      " [0.        ]\n",
      " [0.        ]\n",
      " [1.        ]\n",
      " [0.        ]\n",
      " [0.        ]\n",
      " [1.        ]\n",
      " [0.        ]\n",
      " [0.        ]\n",
      " [0.        ]\n",
      " [1.        ]\n",
      " [0.        ]\n",
      " [0.        ]\n",
      " [1.        ]\n",
      " [1.        ]\n",
      " [1.        ]\n",
      " [0.        ]\n",
      " [0.        ]\n",
      " [0.        ]\n",
      " [0.        ]\n",
      " [0.        ]\n",
      " [1.        ]\n",
      " [1.        ]\n",
      " [0.        ]\n",
      " [0.        ]\n",
      " [0.        ]\n",
      " [0.28441962]\n",
      " [0.        ]\n",
      " [0.        ]\n",
      " [0.        ]\n",
      " [0.        ]\n",
      " [0.        ]\n",
      " [1.        ]\n",
      " [0.        ]\n",
      " [0.        ]\n",
      " [0.        ]\n",
      " [0.        ]\n",
      " [1.        ]\n",
      " [1.        ]\n",
      " [0.        ]\n",
      " [1.        ]\n",
      " [0.        ]\n",
      " [1.        ]\n",
      " [0.        ]\n",
      " [0.        ]\n",
      " [0.        ]\n",
      " [1.        ]\n",
      " [0.        ]\n",
      " [1.        ]\n",
      " [0.        ]\n",
      " [0.        ]\n",
      " [0.        ]\n",
      " [0.        ]\n",
      " [0.        ]\n",
      " [0.        ]\n",
      " [0.        ]\n",
      " [0.        ]\n",
      " [1.        ]\n",
      " [0.        ]\n",
      " [1.        ]\n",
      " [1.        ]\n",
      " [1.        ]\n",
      " [0.        ]\n",
      " [0.        ]\n",
      " [0.        ]\n",
      " [0.        ]\n",
      " [1.        ]\n",
      " [0.        ]\n",
      " [0.        ]\n",
      " [1.        ]\n",
      " [1.        ]\n",
      " [0.        ]\n",
      " [0.        ]\n",
      " [1.        ]\n",
      " [0.        ]\n",
      " [0.        ]\n",
      " [1.        ]\n",
      " [0.        ]\n",
      " [0.        ]\n",
      " [0.        ]\n",
      " [1.        ]\n",
      " [1.        ]\n",
      " [1.        ]\n",
      " [1.        ]\n",
      " [0.        ]\n",
      " [0.        ]\n",
      " [0.        ]\n",
      " [1.        ]\n",
      " [0.        ]\n",
      " [0.        ]\n",
      " [0.        ]\n",
      " [0.        ]\n",
      " [0.        ]\n",
      " [0.        ]\n",
      " [1.        ]\n",
      " [0.        ]\n",
      " [1.        ]\n",
      " [0.        ]\n",
      " [1.        ]\n",
      " [0.21624398]\n",
      " [0.        ]\n",
      " [0.        ]\n",
      " [0.        ]\n",
      " [0.        ]\n",
      " [0.        ]\n",
      " [0.        ]\n",
      " [0.        ]\n",
      " [0.        ]\n",
      " [1.        ]\n",
      " [1.        ]\n",
      " [0.        ]\n",
      " [0.        ]\n",
      " [0.        ]\n",
      " [0.        ]\n",
      " [1.        ]\n",
      " [0.        ]\n",
      " [0.        ]\n",
      " [1.        ]\n",
      " [0.        ]\n",
      " [0.11247733]\n",
      " [0.        ]\n",
      " [0.        ]\n",
      " [0.        ]\n",
      " [0.        ]\n",
      " [0.        ]\n",
      " [0.        ]\n",
      " [1.        ]\n",
      " [1.        ]\n",
      " [0.        ]\n",
      " [0.        ]\n",
      " [0.        ]\n",
      " [0.        ]\n",
      " [1.        ]\n",
      " [0.        ]\n",
      " [0.        ]\n",
      " [0.        ]\n",
      " [1.        ]\n",
      " [0.        ]\n",
      " [0.        ]\n",
      " [0.        ]\n",
      " [1.        ]\n",
      " [0.        ]\n",
      " [0.        ]\n",
      " [0.        ]\n",
      " [1.        ]\n",
      " [0.        ]\n",
      " [1.        ]\n",
      " [0.        ]\n",
      " [1.        ]\n",
      " [0.        ]\n",
      " [1.        ]\n",
      " [0.        ]\n",
      " [0.        ]\n",
      " [0.        ]\n",
      " [0.        ]\n",
      " [1.        ]\n",
      " [0.        ]\n",
      " [0.        ]\n",
      " [0.        ]\n",
      " [0.        ]\n",
      " [0.        ]\n",
      " [0.        ]\n",
      " [0.        ]\n",
      " [0.        ]\n",
      " [0.        ]\n",
      " [0.        ]\n",
      " [1.        ]\n",
      " [1.        ]\n",
      " [1.        ]\n",
      " [0.        ]\n",
      " [0.        ]\n",
      " [1.        ]\n",
      " [0.        ]\n",
      " [0.        ]\n",
      " [0.        ]\n",
      " [1.        ]\n",
      " [1.        ]\n",
      " [0.        ]\n",
      " [0.        ]\n",
      " [0.        ]\n",
      " [0.        ]\n",
      " [1.        ]\n",
      " [0.        ]\n",
      " [0.        ]\n",
      " [1.        ]\n",
      " [1.        ]\n",
      " [0.        ]\n",
      " [0.        ]\n",
      " [0.        ]\n",
      " [0.        ]\n",
      " [0.        ]]\n"
     ]
    }
   ],
   "source": [
    "print(Test_label)"
   ]
  },
  {
   "cell_type": "code",
   "execution_count": 36,
   "id": "identified-decade",
   "metadata": {},
   "outputs": [
    {
     "name": "stdout",
     "output_type": "stream",
     "text": [
      "(1968, 64, 64, 3)\n",
      "[1.]\n"
     ]
    },
    {
     "data": {
      "text/plain": [
       "<matplotlib.image.AxesImage at 0x7f9e04cb5358>"
      ]
     },
     "execution_count": 36,
     "metadata": {},
     "output_type": "execute_result"
    },
    {
     "data": {
      "image/png": "[encoded data removed]",
      "text/plain": [
       "<Figure size 432x288 with 1 Axes>"
      ]
     },
     "metadata": {
      "needs_background": "light"
     },
     "output_type": "display_data"
    }
   ],
   "source": [
    "Train_dataset=h5py.File('Train_Set_cat.h5','r')\n",
    "T_X=np.array(Train_dataset['train_set_x'][:])\n",
    "T_y=np.array(Train_dataset['train_set_y'][:])\n",
    "print(T_X.shape)\n",
    "index=12\n",
    "print(T_y[index])\n",
    "plt.imshow(T_X[index])"
   ]
  },
  {
   "cell_type": "code",
   "execution_count": 37,
   "id": "continental-least",
   "metadata": {},
   "outputs": [
    {
     "name": "stdout",
     "output_type": "stream",
     "text": [
      "(1968, 64, 64, 3)\n",
      "[0.]\n"
     ]
    },
    {
     "data": {
      "text/plain": [
       "<matplotlib.image.AxesImage at 0x7f9e04c36a58>"
      ]
     },
     "execution_count": 37,
     "metadata": {},
     "output_type": "execute_result"
    },
    {
     "data": {
      "image/png": "[encoded data removed]",
      "text/plain": [
       "<Figure size 432x288 with 1 Axes>"
      ]
     },
     "metadata": {
      "needs_background": "light"
     },
     "output_type": "display_data"
    }
   ],
   "source": [
    "Train_dataset=h5py.File('Train_Set_cat.h5','r')\n",
    "T_X=np.array(Train_dataset['train_set_x'][:])\n",
    "T_y=np.array(Train_dataset['train_set_y'][:])\n",
    "print(T_X.shape)\n",
    "index=10\n",
    "print(T_y[index])\n",
    "plt.imshow(T_X[index])"
   ]
  },
  {
   "cell_type": "code",
   "execution_count": 20,
   "id": "intended-truck",
   "metadata": {},
   "outputs": [],
   "source": [
    "temp_image= np.array(imageio.imread(\"/home/yee/DataSet/1.jpg\"))\n",
    "image=transform.resize(temp_image,(64,64))"
   ]
  },
  {
   "cell_type": "code",
   "execution_count": 21,
   "id": "taken-nowhere",
   "metadata": {},
   "outputs": [
    {
     "data": {
      "text/plain": [
       "<matplotlib.image.AxesImage at 0x7fdda0ca5898>"
      ]
     },
     "execution_count": 21,
     "metadata": {},
     "output_type": "execute_result"
    },
    {
     "data": {
      "image/png": "[encoded data removed]",
      "text/plain": [
       "<Figure size 432x288 with 1 Axes>"
      ]
     },
     "metadata": {
      "needs_background": "light"
     },
     "output_type": "display_data"
    }
   ],
   "source": [
    "plt.imshow(image)"
   ]
  },
  {
   "cell_type": "code",
   "execution_count": 22,
   "id": "directed-receptor",
   "metadata": {},
   "outputs": [],
   "source": [
    "red=image.copy()\n",
    "green=image.copy()\n",
    "blue=image.copy()\n",
    "red[:,:,1:3]=0\n",
    "green[:,:,::2]=0\n",
    "blue[:,:,:2]=0"
   ]
  },
  {
   "cell_type": "code",
   "execution_count": 23,
   "id": "following-festival",
   "metadata": {},
   "outputs": [
    {
     "data": {
      "text/plain": [
       "<matplotlib.image.AxesImage at 0x7fdda0c84f60>"
      ]
     },
     "execution_count": 23,
     "metadata": {},
     "output_type": "execute_result"
    },
    {
     "data": {
      "image/png": "[encoded data removed]",
      "text/plain": [
       "<Figure size 432x288 with 1 Axes>"
      ]
     },
     "metadata": {
      "needs_background": "light"
     },
     "output_type": "display_data"
    }
   ],
   "source": [
    "plt.imshow(red)"
   ]
  },
  {
   "cell_type": "code",
   "execution_count": 24,
   "id": "present-vacuum",
   "metadata": {},
   "outputs": [
    {
     "data": {
      "text/plain": [
       "<matplotlib.image.AxesImage at 0x7fdda0bee550>"
      ]
     },
     "execution_count": 24,
     "metadata": {},
     "output_type": "execute_result"
    },
    {
     "data": {
      "image/png": "[encoded data removed]",
      "text/plain": [
       "<Figure size 432x288 with 1 Axes>"
      ]
     },
     "metadata": {
      "needs_background": "light"
     },
     "output_type": "display_data"
    }
   ],
   "source": [
    "plt.imshow(green)"
   ]
  },
  {
   "cell_type": "code",
   "execution_count": 25,
   "id": "demanding-mentor",
   "metadata": {},
   "outputs": [
    {
     "data": {
      "text/plain": [
       "<matplotlib.image.AxesImage at 0x7fdda0bcab38>"
      ]
     },
     "execution_count": 25,
     "metadata": {},
     "output_type": "execute_result"
    },
    {
     "data": {
      "image/png": "[encoded data removed]",
      "text/plain": [
       "<Figure size 432x288 with 1 Axes>"
      ]
     },
     "metadata": {
      "needs_background": "light"
     },
     "output_type": "display_data"
    }
   ],
   "source": [
    "plt.imshow(blue)"
   ]
  }
 ],
 "metadata": {
  "kernelspec": {
   "display_name": "Python 3",
   "language": "python",
   "name": "python3"
  },
  "language_info": {
   "codemirror_mode": {
    "name": "ipython",
    "version": 3
   },
   "file_extension": ".py",
   "mimetype": "text/x-python",
   "name": "python",
   "nbconvert_exporter": "python",
   "pygments_lexer": "ipython3",
   "version": "3.7.3"
  }
 },
 "nbformat": 4,
 "nbformat_minor": 5
}
