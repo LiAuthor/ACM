{
 "cells": [
  {
   "cell_type": "code",
   "execution_count": 1,
   "id": "labeled-webmaster",
   "metadata": {},
   "outputs": [],
   "source": [
    "import matplotlib.pyplot as plt\n",
    "import numpy as np\n",
    "import os\n",
    "import PIL\n",
    "import pathlib\n",
    "import tensorflow as tf\n",
    "from tensorflow import keras\n",
    "from tensorflow.keras import layers\n",
    "from tensorflow.keras.models import Sequential"
   ]
  },
  {
   "cell_type": "code",
   "execution_count": 2,
   "id": "verified-simulation",
   "metadata": {},
   "outputs": [
    {
     "name": "stdout",
     "output_type": "stream",
     "text": [
      "Found 14629 files belonging to 3 classes.\n",
      "Using 11704 files for training.\n"
     ]
    }
   ],
   "source": [
    "img_height = 180\n",
    "img_width = 180\n",
    "num_classes = 3\n",
    "\n",
    "data_root_orig = \"/home/yee/DataSet/Animal/train\"\n",
    "data_root = pathlib.Path(data_root_orig)\n",
    "\n",
    "train_ds = tf.keras.preprocessing.image_dataset_from_directory(\n",
    "    data_root,\n",
    "    validation_split=0.2,\n",
    "    subset=\"training\",\n",
    "    seed=123,\n",
    "    image_size=(180, 180),\n",
    "    batch_size=32)\n",
    "\n",
    "class_names = train_ds.class_names\n",
    "\n",
    "data_augmentation = keras.Sequential(\n",
    "    [\n",
    "        layers.experimental.preprocessing.RandomFlip(\"horizontal\",\n",
    "                                                     input_shape=(img_height,\n",
    "                                                                  img_width,\n",
    "                                                                  3)),\n",
    "        layers.experimental.preprocessing.RandomRotation(0.1),\n",
    "        layers.experimental.preprocessing.RandomZoom(0.1),\n",
    "    ]\n",
    ")\n",
    "\n",
    "\n",
    "def create_model():\n",
    "    model = Sequential([\n",
    "        data_augmentation,\n",
    "        layers.experimental.preprocessing.Rescaling(1./255),\n",
    "        layers.Conv2D(16, 3, padding='same', activation='relu'),\n",
    "        layers.MaxPooling2D(),\n",
    "        layers.Conv2D(32, 3, padding='same', activation='relu'),\n",
    "        layers.MaxPooling2D(),\n",
    "        layers.Conv2D(64, 3, padding='same', activation='relu'),\n",
    "        layers.MaxPooling2D(),\n",
    "        layers.Dropout(0.2),\n",
    "        layers.Flatten(),\n",
    "        layers.Dense(128, activation='relu'),\n",
    "        layers.Dense(num_classes)\n",
    "    ])\n",
    "    model.compile(optimizer='adam',\n",
    "                  loss=tf.keras.losses.SparseCategoricalCrossentropy(\n",
    "                      from_logits=True),\n",
    "                  metrics=['accuracy'])\n",
    "    return model"
   ]
  },
  {
   "cell_type": "code",
   "execution_count": 3,
   "id": "thermal-binary",
   "metadata": {},
   "outputs": [
    {
     "data": {
      "text/plain": [
       "<tensorflow.python.training.tracking.util.CheckpointLoadStatus at 0x7f41e459c7b8>"
      ]
     },
     "execution_count": 3,
     "metadata": {},
     "output_type": "execute_result"
    }
   ],
   "source": [
    "# 创建模型实例\n",
    "model = create_model()\n",
    "\n",
    "# 恢复权重\n",
    "model.load_weights('/home/yee/GraduationDesign/Model/checkpoints/Animals/Animals_checkpoint')"
   ]
  },
  {
   "cell_type": "code",
   "execution_count": 12,
   "id": "together-volleyball",
   "metadata": {},
   "outputs": [],
   "source": [
    "#正例\n",
    "#data_root_orig_Yes = \"/home/yee/DataSet/Animal/val/cat/\"\n",
    "#data_root_orig_Yes = \"/home/yee/DataSet/Animal/val/dog/\"\n",
    "data_root_orig_Yes = \"/home/yee/DataSet/Animal/val/wild/\"\n",
    "data_root_Yes = pathlib.Path(data_root_orig_Yes)\n",
    "\n",
    "#反例\n",
    "data_root_orig_No=\"/home/yee/DataSet/dataset/TEST\"\n",
    "data_root_No = pathlib.Path(data_root_orig_No)\n",
    "\n",
    "#test_class=\"cat\"\n",
    "#test_class=\"dog\"\n",
    "test_class=\"wild\""
   ]
  },
  {
   "cell_type": "code",
   "execution_count": 13,
   "id": "consecutive-charm",
   "metadata": {},
   "outputs": [
    {
     "name": "stdout",
     "output_type": "stream",
     "text": [
      "numbers_test:500 TP:484 FN:16\n"
     ]
    }
   ],
   "source": [
    "#正文件夹测试\n",
    "TP=0\n",
    "FN=0\n",
    "numbers_test=0\n",
    "# 遍历文件夹中的每个文件测试\n",
    "for item in data_root_Yes.iterdir():\n",
    "    # print(item)\n",
    "    img = keras.preprocessing.image.load_img(\n",
    "        item, target_size=(img_height, img_width) \n",
    "    )\n",
    "    img_array = keras.preprocessing.image.img_to_array(img)\n",
    "    img_array = tf.expand_dims(img_array, 0)  # Create a batch\n",
    "\n",
    "    predictions = model.predict(img_array)\n",
    "    score = tf.nn.softmax(predictions[0])\n",
    "    numbers_test+=1\n",
    "    type_test=class_names[np.argmax(score)]\n",
    "    confidence=100 * np.max(score)\n",
    "    if type_test==test_class:\n",
    "        TP+=1\n",
    "    else:\n",
    "        FN+=1\n",
    "    #print(\"Belongs to {} with a {:.2f} percent confidence.\".format(class_names[np.argmax(score)], 100 * np.max(score)))\n",
    "print(\"numbers_test:{} TP:{} FN:{}\".format(numbers_test,TP,FN))"
   ]
  },
  {
   "cell_type": "code",
   "execution_count": 14,
   "id": "judicial-designer",
   "metadata": {},
   "outputs": [
    {
     "name": "stdout",
     "output_type": "stream",
     "text": [
      "numbers_test:1000 TN:319 FP:181\n"
     ]
    }
   ],
   "source": [
    "#负文件夹测试\n",
    "TN=0\n",
    "FP=0\n",
    "# 遍历文件夹中的每个文件测试\n",
    "for item in data_root_No.iterdir():\n",
    "    # print(item)\n",
    "    img = keras.preprocessing.image.load_img(\n",
    "        item, target_size=(img_height, img_width) \n",
    "    )\n",
    "    img_array = keras.preprocessing.image.img_to_array(img)\n",
    "    img_array = tf.expand_dims(img_array, 0)  # Create a batch\n",
    "\n",
    "    predictions = model.predict(img_array)\n",
    "    score = tf.nn.softmax(predictions[0])\n",
    "    numbers_test+=1\n",
    "    type_test=class_names[np.argmax(score)]\n",
    "    confidence=100 * np.max(score)\n",
    "    if type_test==test_class:\n",
    "        FP+=1\n",
    "    else:\n",
    "        TN+=1\n",
    "    #print(\"Belongs to {} with a {:.2f} percent confidence.\".format(class_names[np.argmax(score)], 100 * np.max(score)))\n",
    "print(\"numbers_test:{} TN:{} FP:{}\".format(numbers_test,TN,FP))"
   ]
  },
  {
   "cell_type": "code",
   "execution_count": 15,
   "id": "surprised-width",
   "metadata": {},
   "outputs": [
    {
     "name": "stdout",
     "output_type": "stream",
     "text": [
      "P:0.7278195488721805 R:0.968 F1:0.8309012875536481\n"
     ]
    }
   ],
   "source": [
    "precision=TP/(TP+FP)\n",
    "recall=TP/(TP+FN)\n",
    "F1=2*TP/(numbers_test+TP-TN)\n",
    "print(\"P:{} R:{} F1:{}\".format(precision,recall,F1))"
   ]
  },
  {
   "cell_type": "code",
   "execution_count": null,
   "id": "meaning-enzyme",
   "metadata": {},
   "outputs": [],
   "source": []
  }
 ],
 "metadata": {
  "kernelspec": {
   "display_name": "Python 3",
   "language": "python",
   "name": "python3"
  },
  "language_info": {
   "codemirror_mode": {
    "name": "ipython",
    "version": 3
   },
   "file_extension": ".py",
   "mimetype": "text/x-python",
   "name": "python",
   "nbconvert_exporter": "python",
   "pygments_lexer": "ipython3",
   "version": "3.7.3"
  }
 },
 "nbformat": 4,
 "nbformat_minor": 5
}
